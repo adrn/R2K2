{
 "cells": [
  {
   "cell_type": "code",
   "execution_count": null,
   "metadata": {
    "collapsed": true
   },
   "outputs": [],
   "source": [
    "import os\n",
    "import glob\n",
    "\n",
    "# Third-party\n",
    "from astropy.io import fits\n",
    "import astropy.coordinates as coord\n",
    "from astropy.stats import LombScargle\n",
    "import astropy.units as u\n",
    "\n",
    "import matplotlib as mpl\n",
    "import matplotlib.pyplot as pl\n",
    "from matplotlib.gridspec import GridSpec\n",
    "import numpy as np\n",
    "pl.style.use('apw-notebook')\n",
    "%matplotlib inline\n",
    "from scipy.signal import argrelmax"
   ]
  },
  {
   "cell_type": "code",
   "execution_count": null,
   "metadata": {
    "collapsed": false
   },
   "outputs": [],
   "source": [
    "bright_files = []\n",
    "files = glob.glob(\"../data/light_curves/*.fits\")\n",
    "for filename in files:\n",
    "    header = fits.getheader(os.path.abspath(filename), 0)\n",
    "    Kp = header['KEPMAG']\n",
    "    \n",
    "    if Kp < 15:\n",
    "        bright_files.append(filename)"
   ]
  },
  {
   "cell_type": "code",
   "execution_count": null,
   "metadata": {
    "collapsed": false
   },
   "outputs": [],
   "source": [
    "def plot_periodogram(filename, n_terms=2):\n",
    "    n_fit_freq = 3 # can't change this right now because of gridspec\n",
    "    \n",
    "    data = fits.getdata(os.path.abspath(filename), 1)\n",
    "    still = data['MOVING'] != 1.\n",
    "    t = data['T'][still]*u.day\n",
    "    y = data['FCOR'][still]\n",
    "    \n",
    "    ls = LombScargle(t, y, nterms=n_terms)\n",
    "    \n",
    "    freq,power = ls.autopower(minimum_frequency=1/(1.2*u.day), \n",
    "                              maximum_frequency=1/(0.2*u.day))\n",
    "\n",
    "    fig = pl.figure(figsize=(15,15))\n",
    "\n",
    "    gs = GridSpec(3,3)\n",
    "\n",
    "    ax = fig.add_subplot(gs[0,0])\n",
    "    ax.plot(t-t.min(), y, linestyle='none')\n",
    "    ax.set_xlabel(\"Time [day]\")\n",
    "    ax.set_ylabel(\"Flux\")\n",
    "\n",
    "    ax = fig.add_subplot(gs[1,0])\n",
    "    ax.plot(1/freq, power)\n",
    "    ax.set_xlabel(\"Period [day]\")\n",
    "    ax.set_ylabel(\"Power\")\n",
    "\n",
    "    # best freqs\n",
    "    idx, = argrelmax(power)\n",
    "    idx = sorted(idx, key=lambda x: power[x], reverse=True)[:n_fit_freq]\n",
    "\n",
    "    # compute the best-fit model\n",
    "    phase = np.linspace(0, 1)\n",
    "    for i in range(n_fit_freq): # n best periods\n",
    "        fit_freq = freq[idx[i]]\n",
    "        fit_power = power[idx[i]]\n",
    "        mag_fit = ls.model(t=phase / fit_freq, frequency=fit_freq)\n",
    "\n",
    "        ax = fig.add_subplot(gs[i,1:])\n",
    "        ax.plot((t*fit_freq) % 1, y, linestyle='none')\n",
    "        ax.plot(phase, mag_fit, marker=None)\n",
    "    \n",
    "        ax.text(0.75, y.min() + (y.max()-y.min())*0.05, fontsize=24,\n",
    "                s=\"power: {:.3f}\".format(fit_power))\n",
    "    \n",
    "        if i < 2:\n",
    "            ax.xaxis.set_ticklabels([\"\"])\n",
    "\n",
    "    ax.set_xlabel(\"Phase\")\n",
    "    \n",
    "    fig.tight_layout()"
   ]
  },
  {
   "cell_type": "code",
   "execution_count": null,
   "metadata": {
    "collapsed": false,
    "scrolled": false
   },
   "outputs": [],
   "source": [
    "for filename in bright_files[4:8]:\n",
    "    plot_periodogram(filename, 4)"
   ]
  },
  {
   "cell_type": "markdown",
   "metadata": {},
   "source": [
    "---"
   ]
  },
  {
   "cell_type": "code",
   "execution_count": null,
   "metadata": {
    "collapsed": true
   },
   "outputs": [],
   "source": [
    "from gala.util import rolling_window"
   ]
  },
  {
   "cell_type": "code",
   "execution_count": null,
   "metadata": {
    "collapsed": true
   },
   "outputs": [],
   "source": [
    "def moving_best_periods(filename, n_terms=2):\n",
    "    data = fits.getdata(os.path.abspath(filename), 1)\n",
    "    still = data['MOVING'] != 1.\n",
    "    t = data['T'][still]*u.day\n",
    "    y = data['FCOR'][still]\n",
    "    \n",
    "    n_window = int(4 * (0.5*u.day) / np.median(t[1:] - t[:-1]))\n",
    "    stride = n_window // 8\n",
    "    \n",
    "    best_freqs = []\n",
    "    for (i1,i2),t_window in rolling_window(t, n_window, stride=stride, return_idx=True):\n",
    "        ls = LombScargle(t_window, y[i1:i2], nterms=n_terms)    \n",
    "        freq,power = ls.autopower(minimum_frequency=1/(1.2*u.day), \n",
    "                                  maximum_frequency=1/(0.2*u.day),\n",
    "                                  samples_per_peak=10)\n",
    "        best_freq = freq[power.argmax()]\n",
    "        best_freqs.append(best_freq)\n",
    "        \n",
    "    return 1 / u.Quantity(best_freqs)"
   ]
  },
  {
   "cell_type": "code",
   "execution_count": null,
   "metadata": {
    "collapsed": false
   },
   "outputs": [],
   "source": [
    "best_periods = moving_best_periods(files[5])"
   ]
  },
  {
   "cell_type": "code",
   "execution_count": null,
   "metadata": {
    "collapsed": false
   },
   "outputs": [],
   "source": [
    "pl.plot(best_periods)"
   ]
  },
  {
   "cell_type": "code",
   "execution_count": null,
   "metadata": {
    "collapsed": true
   },
   "outputs": [],
   "source": []
  }
 ],
 "metadata": {
  "kernelspec": {
   "display_name": "Environment (astropy-dev)",
   "language": "",
   "name": "astropy-dev"
  },
  "language_info": {
   "codemirror_mode": {
    "name": "ipython",
    "version": 3
   },
   "file_extension": ".py",
   "mimetype": "text/x-python",
   "name": "python",
   "nbconvert_exporter": "python",
   "pygments_lexer": "ipython3",
   "version": "3.5.2"
  }
 },
 "nbformat": 4,
 "nbformat_minor": 0
}