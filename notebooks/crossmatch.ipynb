{
 "cells": [
  {
   "cell_type": "code",
   "execution_count": null,
   "metadata": {
    "collapsed": true
   },
   "outputs": [],
   "source": [
    "# Third-party\n",
    "import astropy.table as at\n",
    "from astropy.io import ascii\n",
    "import astropy.coordinates as coord\n",
    "import astropy.units as u\n",
    "import matplotlib as mpl\n",
    "import matplotlib.pyplot as pl\n",
    "import numpy as np\n",
    "pl.style.use('apw-notebook')\n",
    "%matplotlib inline"
   ]
  },
  {
   "cell_type": "code",
   "execution_count": null,
   "metadata": {
    "collapsed": false
   },
   "outputs": [],
   "source": [
    "k2 = ascii.read(\"../data/catalogs/k2targets.csv\")"
   ]
  },
  {
   "cell_type": "code",
   "execution_count": null,
   "metadata": {
    "collapsed": false
   },
   "outputs": [],
   "source": [
    "k2_c = coord.SkyCoord(ra=k2['rastr'], dec=k2['decstr'])"
   ]
  },
  {
   "cell_type": "code",
   "execution_count": null,
   "metadata": {
    "collapsed": false
   },
   "outputs": [],
   "source": [
    "len(k2_c)"
   ]
  },
  {
   "cell_type": "markdown",
   "metadata": {},
   "source": [
    "## LINEAR"
   ]
  },
  {
   "cell_type": "code",
   "execution_count": null,
   "metadata": {
    "collapsed": true
   },
   "outputs": [],
   "source": [
    "linear = ascii.read(\"../data/catalogs/LINEAR_RRab.txt\")"
   ]
  },
  {
   "cell_type": "code",
   "execution_count": null,
   "metadata": {
    "collapsed": false
   },
   "outputs": [],
   "source": [
    "linear_c = coord.SkyCoord(ra=linear['ra']*u.degree,\n",
    "                          dec=linear['dec']*u.degree)"
   ]
  },
  {
   "cell_type": "code",
   "execution_count": null,
   "metadata": {
    "collapsed": false
   },
   "outputs": [],
   "source": [
    "idx,sep,_ = coord.match_coordinates_sky(linear_c, k2_c)\n",
    "linear_k2 = k2[idx[(sep < 2*u.arcsecond)]]\n",
    "len(linear_k2)"
   ]
  },
  {
   "cell_type": "markdown",
   "metadata": {},
   "source": [
    "## NSVS"
   ]
  },
  {
   "cell_type": "code",
   "execution_count": null,
   "metadata": {
    "collapsed": false
   },
   "outputs": [],
   "source": [
    "nsvs = ascii.read(\"../data/catalogs/nsvs.tsv\", delimiter='\\t')"
   ]
  },
  {
   "cell_type": "code",
   "execution_count": null,
   "metadata": {
    "collapsed": false
   },
   "outputs": [],
   "source": [
    "nsvs_c = coord.SkyCoord(ra=nsvs['RAJ2000']*u.degree,\n",
    "                        dec=nsvs['DEJ2000']*u.degree)"
   ]
  },
  {
   "cell_type": "code",
   "execution_count": null,
   "metadata": {
    "collapsed": false
   },
   "outputs": [],
   "source": [
    "idx,sep,_ = coord.match_coordinates_sky(nsvs_c, k2_c)\n",
    "nsvs_k2 = k2[idx[(sep < 2*u.arcsecond)]]\n",
    "len(nsvs_k2)"
   ]
  },
  {
   "cell_type": "markdown",
   "metadata": {},
   "source": [
    "## QUEST"
   ]
  },
  {
   "cell_type": "code",
   "execution_count": null,
   "metadata": {
    "collapsed": true
   },
   "outputs": [],
   "source": [
    "quest = ascii.read(\"../data/catalogs/quest_vivas2004_phot.tsv\", delimiter='\\t')"
   ]
  },
  {
   "cell_type": "code",
   "execution_count": null,
   "metadata": {
    "collapsed": false
   },
   "outputs": [],
   "source": [
    "quest_c = coord.SkyCoord(ra=quest['_RAJ2000']*u.degree, \n",
    "                         dec=quest['_DEJ2000']*u.degree)"
   ]
  },
  {
   "cell_type": "code",
   "execution_count": null,
   "metadata": {
    "collapsed": false
   },
   "outputs": [],
   "source": [
    "idx,sep,_ = coord.match_coordinates_sky(quest_c, k2_c)\n",
    "quest_k2 = k2[idx[(sep < 2*u.arcsecond)]]\n",
    "len(quest_k2)"
   ]
  },
  {
   "cell_type": "markdown",
   "metadata": {},
   "source": [
    "## Stripe 82"
   ]
  },
  {
   "cell_type": "code",
   "execution_count": null,
   "metadata": {
    "collapsed": true
   },
   "outputs": [],
   "source": [
    "s82 = ascii.read(\"../data/catalogs/stripe82-rrlyrae.txt\")"
   ]
  },
  {
   "cell_type": "code",
   "execution_count": null,
   "metadata": {
    "collapsed": true
   },
   "outputs": [],
   "source": [
    "s82_c = coord.SkyCoord(ra=s82['ra']*u.degree, \n",
    "                       dec=s82['dec']*u.degree)"
   ]
  },
  {
   "cell_type": "code",
   "execution_count": null,
   "metadata": {
    "collapsed": false
   },
   "outputs": [],
   "source": [
    "idx,sep,_ = coord.match_coordinates_sky(s82_c, k2_c)\n",
    "s82_k2 = k2[idx[(sep < 2*u.arcsecond)]]\n",
    "len(s82_k2)"
   ]
  },
  {
   "cell_type": "markdown",
   "metadata": {},
   "source": [
    "## CSS"
   ]
  },
  {
   "cell_type": "code",
   "execution_count": null,
   "metadata": {
    "collapsed": false
   },
   "outputs": [],
   "source": [
    "css = np.genfromtxt(\"../data/catalogs/css.txt\", dtype=None, names=True, usecols=[1,2])"
   ]
  },
  {
   "cell_type": "code",
   "execution_count": null,
   "metadata": {
    "collapsed": false
   },
   "outputs": [],
   "source": [
    "css_c = coord.SkyCoord(ra=css['RA']*u.degree, \n",
    "                       dec=css['Dec']*u.degree)"
   ]
  },
  {
   "cell_type": "code",
   "execution_count": null,
   "metadata": {
    "collapsed": false
   },
   "outputs": [],
   "source": [
    "idx,sep,_ = coord.match_coordinates_sky(css_c, k2_c)\n",
    "css_k2 = k2[idx[(sep < 2*u.arcsecond)]]\n",
    "len(css_k2)"
   ]
  },
  {
   "cell_type": "markdown",
   "metadata": {},
   "source": [
    "---"
   ]
  },
  {
   "cell_type": "code",
   "execution_count": null,
   "metadata": {
    "collapsed": true
   },
   "outputs": [],
   "source": [
    "all_k2 = at.vstack([linear_k2, nsvs_k2, quest_k2, s82_k2, css_k2])\n",
    "all_k2 = at.unique(all_k2, keys='epic_number')"
   ]
  },
  {
   "cell_type": "code",
   "execution_count": null,
   "metadata": {
    "collapsed": false
   },
   "outputs": [],
   "source": [
    "len(all_k2)"
   ]
  },
  {
   "cell_type": "code",
   "execution_count": null,
   "metadata": {
    "collapsed": true
   },
   "outputs": [],
   "source": [
    "all_k2_c = coord.SkyCoord(ra=all_k2['rastr'], dec=all_k2['decstr'])\n",
    "all_k2['ra'] = all_k2_c.ra.degree\n",
    "all_k2['dec'] = all_k2_c.dec.degree"
   ]
  },
  {
   "cell_type": "code",
   "execution_count": null,
   "metadata": {
    "collapsed": false
   },
   "outputs": [],
   "source": [
    "# np.savetxt(\"../data/matched.txt\", np.array(all_k2['epic_number']).reshape(-1,1), fmt='%d')\n",
    "ascii.write(all_k2['epic_number','ra','dec'], \"../data/matched.txt\", delimiter=',')"
   ]
  },
  {
   "cell_type": "code",
   "execution_count": null,
   "metadata": {
    "collapsed": false
   },
   "outputs": [],
   "source": [
    "all_k2[:2]"
   ]
  },
  {
   "cell_type": "code",
   "execution_count": null,
   "metadata": {
    "collapsed": true
   },
   "outputs": [],
   "source": [
    "wget_cmd = \"wget -q http://archive.stsci.edu/missions/hlsp/k2sff/c{}/{}00000/{}/hlsp_k2sff_k2_lightcurve_{}-c{}_kepler_v1_llc.fits\\n\""
   ]
  },
  {
   "cell_type": "code",
   "execution_count": null,
   "metadata": {
    "collapsed": false
   },
   "outputs": [],
   "source": [
    "lines = []\n",
    "for row in all_k2:\n",
    "    campaign = row['k2_campaign_str']\n",
    "    if campaign != 'E':\n",
    "        campaign = '{:02d}'.format(int(campaign))\n",
    "    else:\n",
    "        campaign = 'et'\n",
    "\n",
    "    str_epic = \"{:09d}\".format(row['epic_number'])\n",
    "    ffour = str_epic[:4]\n",
    "    lfive = str_epic[4:]\n",
    "\n",
    "    lines.append(wget_cmd.format(campaign, ffour, lfive, str_epic, campaign))\n",
    "    \n",
    "with open(\"../data/light_curves/batch_wget.sh\",\"w\") as f:\n",
    "    f.writelines(lines)"
   ]
  },
  {
   "cell_type": "code",
   "execution_count": null,
   "metadata": {
    "collapsed": true
   },
   "outputs": [],
   "source": []
  }
 ],
 "metadata": {
  "kernelspec": {
   "display_name": "Environment (three)",
   "language": "",
   "name": "three"
  }
 },
 "nbformat": 4,
 "nbformat_minor": 0
}